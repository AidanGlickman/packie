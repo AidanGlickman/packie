{
 "cells": [
  {
   "cell_type": "code",
   "execution_count": 50,
   "metadata": {},
   "outputs": [],
   "source": [
    "from selenium import webdriver\n",
    "# import By selectors\n",
    "from selenium.webdriver.common.by import By\n",
    "from bs4 import BeautifulSoup\n",
    "from urllib import parse\n",
    "from time import sleep\n",
    "import requests\n",
    "import json"
   ]
  },
  {
   "cell_type": "code",
   "execution_count": 26,
   "metadata": {},
   "outputs": [
    {
     "name": "stdout",
     "output_type": "stream",
     "text": [
      "<selenium.webdriver.remote.webelement.WebElement (session=\"2f65c5a742e4917106af4142c226efa7\", element=\"72D468F64608EF1442F218ADEDB4F645_element_2\")>\n",
      "done\n"
     ]
    }
   ],
   "source": [
    "# use selenium to scrape duckduckgo results for the search term \"powered by city hive\"\n",
    "results = set()\n",
    "driver = webdriver.Chrome()\n",
    "term = \"\\\"powered by city hive\\\"\"\n",
    "url = \"https://html.duckduckgo.com/html/\"\n",
    "\n",
    "# type the search term into the search box\n",
    "driver.get(url)\n",
    "# wait for the page to load\n",
    "sleep(2)\n",
    "\n",
    "# initial search\n",
    "search_box = driver.find_element(By.NAME, \"q\")\n",
    "print(search_box)\n",
    "search_box.send_keys(term)\n",
    "driver.find_element(By.NAME, \"b\").click()\n",
    "\n",
    "going = True\n",
    "while going:\n",
    "    curr_results = driver.find_elements(By.CLASS_NAME, \"result__a\")\n",
    "    for result in curr_results:\n",
    "        results.add(result.get_attribute(\"href\"))\n",
    "    try:\n",
    "        # find the button with the value \"Next\"\n",
    "        next_button = driver.find_element(By.XPATH, \"//input[@value='Next']\")\n",
    "        # click the button\n",
    "        next_button.click()\n",
    "\n",
    "        sleep(2)\n",
    "    except:\n",
    "        going = False\n",
    "        print(\"done\")\n"
   ]
  },
  {
   "cell_type": "code",
   "execution_count": 62,
   "metadata": {},
   "outputs": [],
   "source": [
    "# A utility function that returns all of the values associated with given keys from a dictionary\n",
    "# def get_all_values(key, dictionary):\n",
    "#     values = []\n",
    "#     for k, v in dictionary.items():\n",
    "#         if k == key:\n",
    "#             values.append(v)\n",
    "#         elif isinstance(v, dict):\n",
    "#             results = get_all_values(key, v)\n",
    "#             for item in results:\n",
    "#                 values.append(item)\n",
    "#         elif isinstance(v, list):\n",
    "#             for d in v:\n",
    "#                 if isinstance(d, dict):\n",
    "#                     more_results = get_all_values(key, d)\n",
    "#                     for item in more_results:\n",
    "#                         values.append(item)\n",
    "#     return values\n",
    "def get_all_values(keys, dictionary):\n",
    "    values = {key: [] for key in keys}\n",
    "    for k, v in dictionary.items():\n",
    "        if k in keys:\n",
    "            values[k].append(v)\n",
    "        elif isinstance(v, dict):\n",
    "            results = get_all_values(keys, v)\n",
    "            for key in keys:\n",
    "                values[key].extend(results[key])\n",
    "        elif isinstance(v, list):\n",
    "            for d in v:\n",
    "                if isinstance(d, dict):\n",
    "                    more_results = get_all_values(keys, d)\n",
    "                    for key in keys:\n",
    "                        values[key].extend(more_results[key])\n",
    "    return values"
   ]
  },
  {
   "cell_type": "code",
   "execution_count": 65,
   "metadata": {},
   "outputs": [],
   "source": [
    "def get_cityhive_info(url, driver: webdriver.Chrome):\n",
    "    # gets info about a cityhive site from its url\n",
    "    # returns a dictionary with the following keys (to match the provider schema)\n",
    "    # name: string;\n",
    "    # location: [number, number];\n",
    "    # description: string;\n",
    "\n",
    "    # base_url: string;\n",
    "    # storefront_page: string;\n",
    "    driver.get(url)\n",
    "    info = {\n",
    "        \"name\": None,\n",
    "        \"location\": None,\n",
    "        \"description\": None,\n",
    "        \"base_url\": url,\n",
    "        \"storefront_page\": None\n",
    "    }\n",
    "    # find the ch-elements.search-box element\n",
    "    search_box = driver.find_element(By.TAG_NAME, \"ch-elements.search-box\")\n",
    "    # get the shop-page attribute\n",
    "    info['storefront_page'] = search_box.get_attribute(\"shop-page\")\n",
    "\n",
    "    try:\n",
    "        ch_cont = driver.find_element(By.TAG_NAME, \"ch-elements.container\")\n",
    "        ch_cont_content = json.loads(ch_cont.get_attribute(\"container\"))\n",
    "        dat = get_all_values([\"merchant_name\", \"coordinates\", \"full_address\"], ch_cont_content)\n",
    "        info['name'] = dat['merchant_name'][0]\n",
    "        info['location'] = dat['coordinates'][0]\n",
    "        info['description'] = dat['full_address'][0]\n",
    "    except:\n",
    "        driver.get(f\"{info['storefront_page']}\")\n",
    "        ch_cont = driver.find_element(By.TAG_NAME, \"ch-elements.container\")\n",
    "        ch_cont_content = json.loads(ch_cont.get_attribute(\"container\"))\n",
    "        dat = get_all_values([\"merchant_name\", \"coordinates\", \"full_address\"], ch_cont_content)\n",
    "        info['name'] = dat['merchant_name'][0]\n",
    "        info['location'] = dat['coordinates'][0]\n",
    "        info['description'] = dat['full_address'][0]\n",
    "\n",
    "    return info"
   ]
  },
  {
   "cell_type": "code",
   "execution_count": 68,
   "metadata": {},
   "outputs": [
    {
     "name": "stdout",
     "output_type": "stream",
     "text": [
      "{'name': 'Spirits Unlimited 89', 'location': [-74.154467, 39.913577], 'description': '437 Atlantic City Blvd, Bayville, NJ 08721, USA', 'base_url': 'https://spiritsunlimited.com/', 'storefront_page': 'https://spiritsunlimited.com/shop/'}\n"
     ]
    }
   ],
   "source": [
    "driver = webdriver.Chrome()\n",
    "info = get_cityhive_info(\"https://spiritsunlimited.com/\", driver)\n",
    "print(info)"
   ]
  },
  {
   "cell_type": "code",
   "execution_count": 73,
   "metadata": {},
   "outputs": [
    {
     "name": "stdout",
     "output_type": "stream",
     "text": [
      "failed to get info for https://twinliquors.com\n",
      "Message: no such element: Unable to locate element: {\"method\":\"tag name\",\"selector\":\"ch-elements.container\"}\n",
      "  (Session info: chrome=114.0.5735.133); For documentation on this error, please visit: https://www.selenium.dev/documentation/webdriver/troubleshooting/errors#no-such-element-exception\n",
      "Stacktrace:\n",
      "0   chromedriver                        0x0000000101103f48 chromedriver + 4226888\n",
      "1   chromedriver                        0x00000001010fc4f4 chromedriver + 4195572\n",
      "2   chromedriver                        0x0000000100d40d68 chromedriver + 281960\n",
      "3   chromedriver                        0x0000000100d7bfc8 chromedriver + 524232\n",
      "4   chromedriver                        0x0000000100db2c58 chromedriver + 748632\n",
      "5   chromedriver                        0x0000000100d6ff1c chromedriver + 474908\n",
      "6   chromedriver                        0x0000000100d70ef4 chromedriver + 478964\n",
      "7   chromedriver                        0x00000001010c559c chromedriver + 3970460\n",
      "8   chromedriver                        0x00000001010c96f0 chromedriver + 3987184\n",
      "9   chromedriver                        0x00000001010cf5b4 chromedriver + 4011444\n",
      "10  chromedriver                        0x00000001010ca2fc chromedriver + 3990268\n",
      "11  chromedriver                        0x00000001010a21c0 chromedriver + 3826112\n",
      "12  chromedriver                        0x00000001010e6088 chromedriver + 4104328\n",
      "13  chromedriver                        0x00000001010e61e0 chromedriver + 4104672\n",
      "14  chromedriver                        0x00000001010f5f28 chromedriver + 4169512\n",
      "15  libsystem_pthread.dylib             0x000000018328bfa8 _pthread_start + 148\n",
      "16  libsystem_pthread.dylib             0x0000000183286da0 thread_start + 8\n",
      "\n"
     ]
    },
    {
     "ename": "KeyboardInterrupt",
     "evalue": "Interrupted by user",
     "output_type": "error",
     "traceback": [
      "\u001b[0;31m---------------------------------------------------------------------------\u001b[0m",
      "\u001b[0;31mKeyboardInterrupt\u001b[0m                         Traceback (most recent call last)",
      "Cell \u001b[0;32mIn[73], line 11\u001b[0m\n\u001b[1;32m      9\u001b[0m driver \u001b[39m=\u001b[39m webdriver\u001b[39m.\u001b[39mChrome()\n\u001b[1;32m     10\u001b[0m \u001b[39mfor\u001b[39;00m result \u001b[39min\u001b[39;00m results:\n\u001b[0;32m---> 11\u001b[0m     \u001b[39minput\u001b[39;49m(\u001b[39m\"\u001b[39;49m\u001b[39mpress enter to continue\u001b[39;49m\u001b[39m\"\u001b[39;49m)\n\u001b[1;32m     12\u001b[0m     \u001b[39mtry\u001b[39;00m:\n\u001b[1;32m     13\u001b[0m         shops\u001b[39m.\u001b[39mappend(get_cityhive_info(result, driver))\n",
      "File \u001b[0;32m~/Projects/packie/.venv/lib/python3.10/site-packages/ipykernel/kernelbase.py:1191\u001b[0m, in \u001b[0;36mKernel.raw_input\u001b[0;34m(self, prompt)\u001b[0m\n\u001b[1;32m   1189\u001b[0m     msg \u001b[39m=\u001b[39m \u001b[39m\"\u001b[39m\u001b[39mraw_input was called, but this frontend does not support input requests.\u001b[39m\u001b[39m\"\u001b[39m\n\u001b[1;32m   1190\u001b[0m     \u001b[39mraise\u001b[39;00m StdinNotImplementedError(msg)\n\u001b[0;32m-> 1191\u001b[0m \u001b[39mreturn\u001b[39;00m \u001b[39mself\u001b[39;49m\u001b[39m.\u001b[39;49m_input_request(\n\u001b[1;32m   1192\u001b[0m     \u001b[39mstr\u001b[39;49m(prompt),\n\u001b[1;32m   1193\u001b[0m     \u001b[39mself\u001b[39;49m\u001b[39m.\u001b[39;49m_parent_ident[\u001b[39m\"\u001b[39;49m\u001b[39mshell\u001b[39;49m\u001b[39m\"\u001b[39;49m],\n\u001b[1;32m   1194\u001b[0m     \u001b[39mself\u001b[39;49m\u001b[39m.\u001b[39;49mget_parent(\u001b[39m\"\u001b[39;49m\u001b[39mshell\u001b[39;49m\u001b[39m\"\u001b[39;49m),\n\u001b[1;32m   1195\u001b[0m     password\u001b[39m=\u001b[39;49m\u001b[39mFalse\u001b[39;49;00m,\n\u001b[1;32m   1196\u001b[0m )\n",
      "File \u001b[0;32m~/Projects/packie/.venv/lib/python3.10/site-packages/ipykernel/kernelbase.py:1234\u001b[0m, in \u001b[0;36mKernel._input_request\u001b[0;34m(self, prompt, ident, parent, password)\u001b[0m\n\u001b[1;32m   1231\u001b[0m \u001b[39mexcept\u001b[39;00m \u001b[39mKeyboardInterrupt\u001b[39;00m:\n\u001b[1;32m   1232\u001b[0m     \u001b[39m# re-raise KeyboardInterrupt, to truncate traceback\u001b[39;00m\n\u001b[1;32m   1233\u001b[0m     msg \u001b[39m=\u001b[39m \u001b[39m\"\u001b[39m\u001b[39mInterrupted by user\u001b[39m\u001b[39m\"\u001b[39m\n\u001b[0;32m-> 1234\u001b[0m     \u001b[39mraise\u001b[39;00m \u001b[39mKeyboardInterrupt\u001b[39;00m(msg) \u001b[39mfrom\u001b[39;00m \u001b[39mNone\u001b[39;00m\n\u001b[1;32m   1235\u001b[0m \u001b[39mexcept\u001b[39;00m \u001b[39mException\u001b[39;00m:\n\u001b[1;32m   1236\u001b[0m     \u001b[39mself\u001b[39m\u001b[39m.\u001b[39mlog\u001b[39m.\u001b[39mwarning(\u001b[39m\"\u001b[39m\u001b[39mInvalid Message:\u001b[39m\u001b[39m\"\u001b[39m, exc_info\u001b[39m=\u001b[39m\u001b[39mTrue\u001b[39;00m)\n",
      "\u001b[0;31mKeyboardInterrupt\u001b[0m: Interrupted by user"
     ]
    }
   ],
   "source": [
    "with open('ddg_results.txt', 'r') as f:\n",
    "    results = f.readlines()\n",
    "    results = [result.strip() for result in results]\n",
    "    # parse each line as a url, and only keep the base url and protocol\n",
    "    results = [parse.urlparse(result).scheme + \"://\" + parse.urlparse(result).netloc for result in results]\n",
    "    results = set(results)\n",
    "\n",
    "shops = []\n",
    "driver = webdriver.Chrome()\n",
    "for result in results:\n",
    "    input(\"press enter to continue\")\n",
    "    try:\n",
    "        shops.append(get_cityhive_info(result, driver))\n",
    "        print(\"got info for \" + result)\n",
    "    except Exception as e:\n",
    "        print(\"failed to get info for \" + result)\n",
    "        print(e)\n",
    "        \n"
   ]
  }
 ],
 "metadata": {
  "kernelspec": {
   "display_name": ".venv",
   "language": "python",
   "name": "python3"
  },
  "language_info": {
   "codemirror_mode": {
    "name": "ipython",
    "version": 3
   },
   "file_extension": ".py",
   "mimetype": "text/x-python",
   "name": "python",
   "nbconvert_exporter": "python",
   "pygments_lexer": "ipython3",
   "version": "3.10.12"
  },
  "orig_nbformat": 4
 },
 "nbformat": 4,
 "nbformat_minor": 2
}
